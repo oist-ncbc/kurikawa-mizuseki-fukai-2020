{
 "cells": [
  {
   "cell_type": "code",
   "execution_count": 1,
   "metadata": {},
   "outputs": [],
   "source": [
    "import numpy as np\n",
    "import pylab as pl\n",
    "%matplotlib qt\n",
    "import imp\n",
    "import gen_fig1 as gf\n",
    "import func as fc\n",
    "from scipy import stats\n",
    "#common parameters\n",
    "T=8000\n",
    "Nnet,Ninit=5,5\n",
    "sbin=10\n",
    "origin=4 # 0 degree of phase in rate data \n",
    "period=int(100/sbin) \n"
   ]
  },
  {
   "cell_type": "code",
   "execution_count": 4,
   "metadata": {},
   "outputs": [],
   "source": [
    "imp.reload(gf)\n",
    "#rateCA1_noPV,rateEC3_noPV,rateEC3_PV_noPV   =gf.main(\"rate_dyn\",[\"noPV\",[\"CA1\",\"EC3\",\"EC3_PV\"]])\n",
    "#rateCA1_cut,rateEC3_cut,rateCA1_PV_cut   =gf.main(\"rate_dyn\",[\"cut\"])\n",
    "#rateCA1_noPV,rateEC3_noPV,rateEC3_PV_noPV   =gf.main(\"rate_dyn\",[\"disord\",[\"CA1\",\"EC3\",\"EC3_PV\"]])\n",
    "#rateCA1_noPV,rateEC3_noPV,rateEC3_PV_noPV=np.array(rateCA1_noPV),np.array(rateEC3_noPV),np.array(rateEC3_PV_noPV)\n",
    "#rateCA1_PV=gf.main(\"rate_dyn\",[\"normal\",[\"CA1_PV\"]])\n",
    "#rateCA1,rateEC3,rateEC3_PV=np.array(rateCA1),np.array(rateEC3),np.array(rateEC3_PV)\n",
    "rateCA1_notheta=gf.main(\"rate_dyn\",[\"notheta\",[\"CA1\"],1.0])"
   ]
  },
  {
   "cell_type": "code",
   "execution_count": 14,
   "metadata": {},
   "outputs": [],
   "source": [
    "#rateCA1_dis,rateEC3_dis,rateEC3_PV_dis=np.copy(rateCA1_noPV),np.copy(rateEC3_noPV),np.copy(rateEC3_PV_noPV)\n",
    "%matplotlib qt\n",
    "imp.reload(gf)\n",
    "stagename=\"s-L\"\n",
    "tmp=gf.get_stage_duration(stagename)\n",
    "Twin=(tmp/sbin).astype(int)\n",
    "N=len(rateCA1)  # N=Nnet*Ninit\n",
    "pl.figure()\n",
    "cnt=1\n",
    "\n",
    "pl.subplot(3,1,cnt) # CA1\n",
    "cnt+=1\n",
    "gf.plt_theta_pref((np.mean(gf.get_theta_phase_rate(rateCA1_dis,Twin,[period,origin]),axis=0)),period)\n",
    "gf.plt_theta_pref((np.mean(gf.get_theta_phase_rate(rateCA1,Twin,[period,origin]),axis=0)),period)\n",
    "\n",
    "pl.subplot(3,1,cnt) # EC3\n",
    "cnt+=1\n",
    "gf.plt_theta_pref((np.mean(gf.get_theta_phase_rate(rateEC3_dis,Twin,[period,origin]),axis=0)),period)\n",
    "gf.plt_theta_pref((np.mean(gf.get_theta_phase_rate(rateEC3,Twin,[period,origin]),axis=0)),period)\n",
    "\n",
    "pl.subplot(3,1,cnt) # EC3 PV\n",
    "cnt+=1\n",
    "gf.plt_theta_pref((np.mean(gf.get_theta_phase_rate(rateEC3_PV_dis,Twin,[period,origin]),axis=0)),period)\n",
    "gf.plt_theta_pref((np.mean(gf.get_theta_phase_rate(rateEC3_PV,Twin,[period,origin]),axis=0)),period)"
   ]
  },
  {
   "cell_type": "code",
   "execution_count": 24,
   "metadata": {},
   "outputs": [
    {
     "name": "stderr",
     "output_type": "stream",
     "text": [
      "/Users/kurikawa/.pyenv/versions/anaconda3-5.2.0/lib/python3.6/site-packages/numpy/core/fromnumeric.py:2957: RuntimeWarning: Mean of empty slice.\n",
      "  out=out, **kwargs)\n",
      "/Users/kurikawa/.pyenv/versions/anaconda3-5.2.0/lib/python3.6/site-packages/numpy/core/_methods.py:73: RuntimeWarning: invalid value encountered in true_divide\n",
      "  ret, rcount, out=ret, casting='unsafe', subok=False)\n"
     ]
    }
   ],
   "source": [
    "imp.reload(gf)\n",
    "pl.figure()\n",
    "#fig2B\n",
    "stagename=\"s-C\"\n",
    "#gf.gen_fig2Bv5(stagename,period,origin,sbin)\n",
    "#fig2E\n",
    "stagename=\"s-L\"\n",
    "#gf.gen_fig2Bv5(stagename,period,origin,sbin)\n",
    "\n",
    "#Fig2C ver4\n",
    "stagename=\"s-C\"\n",
    "gf.gen_fig2Cv5(stagename,sbin)\n",
    "stagename=\"s-L\"\n",
    "gf.gen_fig2Cv5(stagename,sbin)\n"
   ]
  },
  {
   "cell_type": "code",
   "execution_count": null,
   "metadata": {},
   "outputs": [],
   "source": [
    "#Fig 1D (additional plot for PV)\n",
    "%matplotlib qt\n",
    "pl.figure()\n",
    "rastdata=np.loadtxt(\"Data_for_paper/rast_EC5EC30.012_CA1EC50.0008_EC3_CA10.001_Gpv0.012_cCA1EC50.005_EC51e-05_gCAN0.020.8GEI_EC50.2GIE_EC50.30_00.015.datdec4long1.130200.0150.0180.018080gamma30_nogamma\")\n",
    "tmprast=np.array([x for x in rastdata if x[1]>=1410 and x[1]<1460])\n",
    "pl.scatter(tmprast[::2,0],tmprast[::2,1],s=0.5,c=\"b\")\n",
    "pl.xlim(500,8000)\n",
    "\n",
    "# Fig1 E (just candidate)\n",
    "N=len(rateCA1)\n",
    "tmp_dis=np.zeros((N,2))\n",
    "tmp=np.zeros((N,2))\n",
    "Twin=(get_stage_duration(\"s-L\")/sbin).astype(int)\n",
    "for i in range(N):\n",
    "    tmp[i,0]=np.mean(rateCA1[i,:120,Twin[0]:Twin[1]])\n",
    "    tmp[i,1]=np.mean(rateCA1[i,120:240,Twin[0]:Twin[1]])\n",
    "    tmp_dis[i,0]=np.mean(rateCA1_dis[i,:120,Twin[0]:Twin[1]])\n",
    "    tmp_dis[i,1]=np.mean(rateCA1_dis[i,120:240,Twin[0]:Twin[1]])\n",
    "    \n",
    "pl.figure()\n",
    "tmptmp=tmp[:,0]-tmp[:,1]\n",
    "tmptmp_dis=tmp_dis[:,0]-tmp_dis[:,1]\n",
    "pl.bar([0],np.mean(tmptmp))\n",
    "pl.bar([1],np.mean(tmptmp_dis))\n",
    "for i in range(N):\n",
    "    pl.scatter(0,tmptmp[i],c=\"gray\")\n",
    "    pl.scatter(1,tmptmp_dis[i],c=\"gray\")\n",
    "\n",
    "# Fig1F \n",
    "for i in range(N):\n",
    "    tmp[i,0]=np.mean(rateEC3[i,:120,750:])\n",
    "    tmp[i,1]=np.mean(rateEC3[i,120:,750:])\n",
    "    tmp_dis[i,0]=np.mean(rateEC3_dis[i,:120,750:])\n",
    "    tmp_dis[i,1]=np.mean(rateEC3_dis[i,120:,750:])\n",
    "    \n",
    "pl.figure()\n",
    "suc=np.zeros((N,2))\n",
    "for i in range(N):\n",
    "    suc[i,0]=inf_prob(tmp[i,0],tmp[i,1])\n",
    "    suc[i,1]=inf_prob(tmp_dis[i,0],tmp_dis[i,1])\n",
    "\n",
    "pl.bar(range(2),np.mean(suc,axis=0) )\n",
    "for i in range(N):\n",
    "    pl.scatter(0,suc[i,0],c=\"gray\")\n",
    "    pl.scatter(1,suc[i,1],c=\"gray\")\n",
    "\n",
    "    \n",
    "\n",
    "# FigS1A\n",
    "stagename=\"s-C\"\n",
    "tmp=get_stage_duration(stagename)\n",
    "Twin=(tmp/sbin).astype(int)\n",
    "N=len(rateCA1)  # N=Nnet*Ninit\n",
    "\n",
    "pl.figure()\n",
    "pl.subplot(8,1,1) # CA1\n",
    "plt_theta_pref(np.mean(get_theta_phase_rate(rateCA1,Twin,[period,origin]),axis=0))\n",
    "pl.subplot(8,1,2) # CA1 PV\n",
    "plt_theta_pref(np.mean(get_theta_phase_rate(rateCA1_PV,Twin,[period,origin]),axis=0))\n",
    "pl.subplot(8,1,3) # CA1 OLM\n",
    "plt_theta_pref(np.mean(get_theta_phase_rate(rateCA1_OLM,Twin,[period,origin]),axis=0))\n",
    "\n",
    "pl.subplot(8,1,4) # EC5\n",
    "plt_theta_pref(np.mean(get_theta_phase_rate(rateEC5,Twin,[period,origin]),axis=0))\n",
    "pl.subplot(8,1,5) # EC5 PV\n",
    "plt_theta_pref(np.mean(get_theta_phase_rate(rateEC5_PV,Twin,[period,origin]),axis=0))\n",
    "\n",
    "pl.subplot(8,1,6) # EC3\n",
    "plt_theta_pref(np.mean(get_theta_phase_rate(rateEC3,Twin,[period,origin]),axis=0))\n",
    "pl.subplot(8,1,7) # EC3 PV\n",
    "plt_theta_pref(np.mean(get_theta_phase_rate(rateEC3_PV,Twin,[period,origin]),axis=0))\n",
    "\n",
    "# FigS1B\n",
    "stagename=\"s-L\"\n",
    "tmp=get_stage_duration(stagename)\n",
    "Twin=(tmp/sbin).astype(int)\n",
    "N=len(rateCA1)  # N=Nnet*Ninit\n",
    "pl.figure()\n",
    "cnt=1\n",
    "pl.subplot(5,1,cnt) # CA3\n",
    "cnt+=1\n",
    "plt_theta_pref((np.mean(get_theta_phase_rate(rateCA3,Twin,[period,origin]),axis=0))\n",
    "pl.subplot(5,1,cnt) # CA1\n",
    "cnt+=1\n",
    "plt_theta_pref((np.mean(get_theta_phase_rate(rateCA1_dis,Twin,[period,origin]),axis=0))\n",
    "pl.subplot(5,1,cnt) # CA1PV\n",
    "cnt+=1\n",
    "plt_theta_pref((np.mean(get_theta_phase_rate(rateCA1_PV_dis,Twin,[period,origin]),axis=0))\n",
    "pl.subplot(5,1,cnt) # EC3\n",
    "cnt+=1\n",
    "plt_theta_pref((np.mean(get_theta_phase_rate(rateEC3_dis,Twin,[period,origin]),axis=0))\n",
    "plt_theta_pref((np.mean(get_theta_phase_rate(rateEC3,Twin,[period,origin]),axis=0))\n",
    "pl.subplot(5,1,cnt) # EC3 PV\n",
    "cnt+=1\n",
    "plt_theta_pref(get_theta_phase_rate(rateEC3_PV_dis,Twin,[period,origin]),axis=0))\n",
    "\n",
    "#FigS1C\n",
    "stagename=\"s-L\"\n",
    "tmp=get_stage_duration(stagename)\n",
    "Twin=(tmp/sbin).astype(int)\n",
    "N=len(rateCA1)  # N=Nnet*Ninit\n",
    "tmprate=np.zeros((N,4))\n",
    "\n",
    "pl.figure()\n",
    "for i in range(4):\n",
    "    tmprate[:,i]=np.mean(rateCA1_dis[:,i*120:120*(i+1),Twin[0]:Twin[1]],axis=(1,2))\n",
    "tmpmean,tmperr=np.mean(tmprate,axis=0),np.std(tmprate,axis=0)\n",
    "pl.bar(range(4),tmpmean)\n",
    "pl.errorbar(range(4),tmpmean,yerr=tmperr,c=\"r\")\n",
    "pl.ylim(0,7)\n",
    "pl.xticks(range(4),[\"R\",\"L\",\"C\",\"H\"])\n",
    "    \n",
    "    \n",
    "#FigS2AB\n",
    "stagename=\"s-L\"\n",
    "tmp=get_stage_duration(stagename)\n",
    "Twin=(tmp/sbin).astype(int)\n",
    "N=len(rateCA1)  # N=Nnet*Ninit\n",
    "\n",
    "pl.figure()\n",
    "cnt=1\n",
    "pl.subplot(4,1,cnt) # CA3\n",
    "cnt+=1\n",
    "plt_theta_pref((np.mean(get_theta_phase_rate(rateCA3,Twin,[period,origin]),axis=0))\n",
    "pl.subplot(4,1,cnt) # CA1\n",
    "cnt+=1\n",
    "plt_theta_pref((np.mean(get_theta_phase_rate(rateCA1_cut,Twin,[period,origin]),axis=0))\n",
    "pl.subplot(4,1,cnt) # CA1PV\n",
    "cnt+=1\n",
    "plt_theta_pref((np.mean(get_theta_phase_rate(rateCA1_PV_cut,Twin,[period,origin]),axis=0))\n",
    "pl.subplot(4,1,cnt) # EC3\n",
    "cnt+=1\n",
    "plt_theta_pref((np.mean(get_theta_phase_rate(rateEC3_cut,Twin,[period,origin]),axis=0))\n",
    "plt_theta_pref((np.mean(get_theta_phase_rate(rateEC3,Twin,[period,origin]),axis=0))\n",
    "\n",
    "pl.figure()\n",
    "cnt=1\n",
    "pl.subplot(4,1,cnt) # CA3\n",
    "cnt+=1\n",
    "plt_theta_pref((np.mean(get_theta_phase_rate(rateCA3,Twin,[period,origin]),axis=0))\n",
    "pl.subplot(4,1,cnt) # CA1\n",
    "cnt+=1\n",
    "plt_theta_pref((np.mean(get_theta_phase_rate(rateCA1_noPV,Twin,[period,origin]),axis=0))\n",
    "pl.subplot(4,1,cnt) # CA1PV\n",
    "cnt+=1\n",
    "plt_theta_pref((np.mean(get_theta_phase_rate(rateCA1_PV_noPV,Twin,[period,origin]),axis=0))\n",
    "pl.subplot(4,1,cnt) # EC3\n",
    "cnt+=1\n",
    "plt_theta_pref(np.mean(get_theta_phase_rate(rateEC3_noPV,Twin,[period,origin]),axis=0))\n",
    "plt_theta_pref((np.mean(get_theta_phase_rate(rateEC3,Twin,[period,origin]),axis=0))\n",
    "\n",
    "\n",
    "#Fig3B\n",
    "rastdata=np.loadtxt(\"Data_for_paper/rast_EC5EC30.012_CA1EC50.0008_EC3_CA10.001_Gpv0.012_cCA1EC50.005_EC51e-05_gCAN0.020.8GEI_EC50.2GIE_EC50.30_00.015.datdec4long1.130200.0150.0180.018080gamma30_nogamma\")\n",
    "dyndata=np.loadtxt(\"Data_for_paper/dyn_EC5EC30.012_CA1EC50.0008_EC3_CA10.001_Gpv0.012_cCA1EC50.005_EC51e-05_gCAN0.020.8GEI_EC50.2GIE_EC50.30_00.015.datdec4long1.130200.0150.0180.018080gamma30_nogamma\")\n",
    "pl.figure()\n",
    "cnt=1\n",
    "pl.subplot(5,1,cnt)\n",
    "cnt+=1\n",
    "pl.plot(range(0,7500), dyndata[500:8000,411:411+4*5:4],c=\"b\")\n",
    "pl.plot(range(0,7500), dyndata[500:8000,411+4*10:411+4*15:4],c=\"orange\")\n",
    "pl.xlim(0,7500)\n",
    "\n",
    "pl.subplot(5,1,cnt)\n",
    "cnt+=1\n",
    "pl.plot(range(0,7500), dyndata[500:8000,412:412+4*5:4],c=\"b\")\n",
    "pl.plot(range(0,7500), dyndata[500:8000,412+4*10:412+4*15:4],c=\"orange\")\n",
    "pl.xlim(0,7500)\n",
    "\n",
    "pl.subplot(5,1,cnt)  # EC5 raster\n",
    "cnt+=1\n",
    "tmprast=np.array([x for x in rastdata if x[1]>=400 and x[1]<600])\n",
    "pl.scatter(tmprast[:,0],tmprast[:,1],s=0.5,c=\"b\")\n",
    "tmprast=np.array([x for x in rastdata if x[1]>=600 and x[1]<800])\n",
    "pl.scatter(tmprast[:,0],tmprast[:,1],s=0.5,c=\"orange\")\n",
    "pl.xlim(500,8000)\n",
    "pl.xticks(np.arange(500,8001,500),np.arange(0,7501,500))\n",
    "\n",
    "pl.subplot(5,1,cnt)  # CA1 raster\n",
    "cnt+=1\n",
    "tmprast=np.array([x for x in rastdata if x[1]>=930 and x[1]<1050])\n",
    "pl.scatter(tmprast[:,0],tmprast[:,1],s=0.5,c=\"b\")\n",
    "tmprast=np.array([x for x in rastdata if x[1]>=1050 and x[1]<1170])\n",
    "pl.scatter(tmprast[:,0],tmprast[:,1],s=0.5,c=\"orange\")\n",
    "pl.xlim(500,8000)\n",
    "pl.xticks(np.arange(500,8001,500),np.arange(0,7501,500))\n",
    "\n",
    "pl.subplot(5,1,cnt) # EC3 raster\n",
    "cnt+=1\n",
    "tmprast=np.array([x for x in rastdata if x[1]>=0 and x[1]<120])\n",
    "pl.scatter(tmprast[:,0],tmprast[:,1],s=0.5,c=\"b\")\n",
    "tmprast=np.array([x for x in rastdata if x[1]>=120 and x[1]<240])\n",
    "pl.scatter(tmprast[:,0],tmprast[:,1],s=0.5,c=\"orange\")\n",
    "pl.xlim(500,8000)\n",
    "pl.xticks(np.arange(500,8001,500),np.arange(0,7501,500))\n"
   ]
  },
  {
   "cell_type": "code",
   "execution_count": 15,
   "metadata": {},
   "outputs": [
    {
     "data": {
      "text/plain": [
       "(500, 8000)"
      ]
     },
     "execution_count": 15,
     "metadata": {},
     "output_type": "execute_result"
    }
   ],
   "source": [
    "tmp=np.load(\"rateCA1OLM_all_normal.npy\")"
   ]
  },
  {
   "cell_type": "code",
   "execution_count": null,
   "metadata": {},
   "outputs": [],
   "source": [
    "#Fig4A\n",
    "theta_peak=gf.gen_theta_lock_index()\n",
    "tmp=np.array(theta_peak).reshape(7,Nnet*Ninit)\n",
    "pl.figure()\n",
    "pl.bar(range(7),np.mean(tmp,axis=1),alpha=0.1)\n",
    "for i in range(25):\n",
    "    pl.scatter(range(7),tmp[:,i],c=\"gray\")\n",
    "    \n",
    "#Fig4C\n",
    "# get rate of EC3\n",
    "rate1=gf.main(\"rate_dyn\",[\"cut_EC3_CA1\",[500,1500]])\n",
    "rate2=gf.main(\"rate_dyn\",[\"cut_EC3_CA1\",[1500,3500]])\n",
    "rate3=gf.main(\"rate_dyn\",[\"cut_EC3_CA1\",[5000,6500]])\n",
    "rate4=gf.main(\"rate_dyn\",[\"cut_EC3_CA1\",[6000,8000]])\n",
    "rate=np.load(\"rateEC3_all_normal.npy\")\n",
    "\n",
    "suc_prob=np.zeros((5,25))\n",
    "for i in range(25):\n",
    "    suc_prob[0,i]=gf.get_suc_prob(rate[i])\n",
    "    suc_prob[1,i]=gf.get_suc_prob(rate1[i])\n",
    "    suc_prob[2,i]=gf.get_suc_prob(rate2[i])\n",
    "    suc_prob[3,i]=gf.get_suc_prob(rate3[i])\n",
    "    suc_prob[4,i]=gf.get_suc_prob(rate4[i])\n",
    "pl.figure()\n",
    "pl.bar(range(5),np.mean(suc_prob,axis=1),alpha=0.2)\n",
    "pl.errorbar(range(5),np.mean(suc_prob,axis=1),yerr=np.std(suc_prob,axis=1))\n",
    "\n",
    "stats.ttest_rel(suc_prob[3], suc_prob[4])\n",
    "Ttest_relResult(statistic=3.249129741562886, pvalue=0.0034091736966294526)\n",
    "\n",
    "pl.figure()\n",
    "pl.plot(range(2),suc_prob[3:,:],c=\"gray\")\n",
    "\n",
    "\n",
    "#Fig5A\n",
    "imp.reload(gf)\n",
    "paras=[Nnet,Ninit,sbin,period,origin]\n",
    "name_stages=[\"s-C\",\"s-L\",\"H2\",\"t-C1\",\"t-C2\"]\n",
    "sum_total=gf.gen_distr_theta_normal_suc(\"ext\",0,False,\"_\",name_stages,paras)\n",
    "pl.figure()\n",
    "for istage in range(len(name_stages)):\n",
    "    pl.subplot(len(name_stages),1,istage+1)\n",
    "    gf.plt_theta_pref(sum_total[istage],period)\n",
    "    pl.ylim(0,5)\n",
    "sum_total=gf.gen_distr_theta_normal_suc(\"PV\",0,False,\"_\",name_stages,paras)\n",
    "pl.figure()\n",
    "for istage in range(len(name_stages)):\n",
    "    pl.subplot(len(name_stages),1,istage+1)\n",
    "    gf.plt_theta_pref(sum_total[istage],period)\n",
    "    pl.ylim(0,60)\n",
    "sum_total=gf.gen_distr_theta_normal_suc(\"OLM\",0,False,\"_\",name_stages,paras)\n",
    "pl.figure()\n",
    "for istage in range(len(name_stages)):\n",
    "    pl.subplot(len(name_stages),1,istage+1)\n",
    "    gf.plt_theta_pref(sum_total[istage],period)\n",
    "    pl.ylim(0,60)\n",
    "    \n",
    "#Fig5B\n",
    "paras=[Nnet,Ninit,sbin,period,origin]\n",
    "name_stages=[\"s-C\",\"s-L\",\"H2\",\"t-C1\",\"t-C2\"]\n",
    "sum_total=gf.gen_distr_theta_normal_suc(\"ext\",0,False,\"_\",name_stages,paras)\n",
    "mean_theta=gf.gen_mean_theta_suc(sum_total,paras)\n",
    "pl.figure()\n",
    "pl.scatter(range(5),mean_theta)\n",
    "pl.scatter(range(5),mean_theta+1)"
   ]
  },
  {
   "cell_type": "code",
   "execution_count": 165,
   "metadata": {},
   "outputs": [],
   "source": [
    "rate=gf.main(\"rate_dyn\",[\"cut_EC3_CA1\",[5000,6500]])\n",
    "np.save(\"rateEC3_all_cutEC3CA1_5000_6500.npy\",rate)\n",
    "rate=gf.main(\"rate_dyn\",[\"cut_EC3_CA1\",[5000,6000]])\n",
    "np.save(\"rateEC3_all_cutEC3CA1_5000_6000.npy\",rate)\n",
    "rate=gf.main(\"rate_dyn\",[\"cut_EC3_CA1\",[6500,8000]])\n",
    "np.save(\"rateEC3_all_cutEC3CA1_6500_8000.npy\",rate)\n",
    "rate=gf.main(\"rate_dyn\",[\"cut_EC3_CA1\",[6000,8000]])\n",
    "np.save(\"rateEC3_all_cutEC3CA1_6000_8000.npy\",rate)\n"
   ]
  },
  {
   "cell_type": "code",
   "execution_count": 83,
   "metadata": {},
   "outputs": [],
   "source": [
    "rastdata=np.loadtxt(\"Data_for_paper/rast_EC5EC30.012_CA1EC50.0008_EC3_CA10.001_Gpv0_cCA1EC50.005_EC51e-05_gCAN0.020.8GEI_EC50.2GIE_EC50.30_00.015.datdec4long1.130200.0150.0180.018080gamma30_nogamma\")"
   ]
  },
  {
   "cell_type": "code",
   "execution_count": 273,
   "metadata": {},
   "outputs": [
    {
     "name": "stdout",
     "output_type": "stream",
     "text": [
      "there is no hit trial\n",
      "there is no hit trial\n"
     ]
    }
   ],
   "source": [
    "imp.reload(gf)\n",
    "gf.main(\"Fig6C\",\"_\")\n"
   ]
  },
  {
   "cell_type": "code",
   "execution_count": 31,
   "metadata": {},
   "outputs": [],
   "source": [
    "imp.reload(gf)\n",
    "gf.main(\"Fig5AB\",\"_\")"
   ]
  },
  {
   "cell_type": "code",
   "execution_count": 15,
   "metadata": {},
   "outputs": [],
   "source": [
    "del rateCA1_PV"
   ]
  },
  {
   "cell_type": "code",
   "execution_count": 184,
   "metadata": {},
   "outputs": [],
   "source": [
    "tmp=np.load(\"rateCA1_all_normal.npy\")"
   ]
  },
  {
   "cell_type": "code",
   "execution_count": 185,
   "metadata": {},
   "outputs": [
    {
     "data": {
      "text/plain": [
       "(25, 480, 801)"
      ]
     },
     "execution_count": 185,
     "metadata": {},
     "output_type": "execute_result"
    }
   ],
   "source": [
    "tmp.shape"
   ]
  },
  {
   "cell_type": "code",
   "execution_count": 221,
   "metadata": {},
   "outputs": [],
   "source": [
    "rateCA1=np.zeros((25,480,1601))\n",
    "rateEC3=np.zeros((25,240,1601))\n",
    "\n",
    "for tmpname in [\"enc0.7\",\"enc0.9\",\"enc1\",\"enc1.1\"]:\n",
    "    for i in range(5):\n",
    "        for j in range(5):\n",
    "            fname=\"rateCA1_all_\"+tmpname+(\"_%d_%d.npy\" % (i,j))\n",
    "            rateCA1[i*5+j]=np.load(fname)\n",
    "            fname=\"rateEC3_all_\"+tmpname+(\"_%d_%d.npy\" % (i,j))\n",
    "            rateEC3[i*5+j]=np.load(fname)\n",
    "    np.save(\"rateCA1_all_\"+tmpname+\".npy\",rateCA1)\n",
    "    np.save(\"rateEC3_all_\"+tmpname+\".npy\",rateEC3)"
   ]
  },
  {
   "cell_type": "code",
   "execution_count": 211,
   "metadata": {},
   "outputs": [],
   "source": [
    "tmp=np.load(\"rateCA1_all_delay0.8.npy\")"
   ]
  },
  {
   "cell_type": "code",
   "execution_count": 212,
   "metadata": {},
   "outputs": [
    {
     "data": {
      "text/plain": [
       "[<matplotlib.lines.Line2D at 0x1c23d977f0>]"
      ]
     },
     "execution_count": 212,
     "metadata": {},
     "output_type": "execute_result"
    }
   ],
   "source": [
    "pl.figure()\n",
    "pl.plot(range(1601),np.mean(tmp[:,:120],axis=(0,1)))\n",
    "pl.plot(range(1601),np.mean(tmp[:,120:],axis=(0,1)))"
   ]
  },
  {
   "cell_type": "code",
   "execution_count": 205,
   "metadata": {},
   "outputs": [
    {
     "name": "stdout",
     "output_type": "stream",
     "text": [
      "rateCA1_all_delay0.8_4_4.npy\n"
     ]
    }
   ],
   "source": [
    "print(fname)"
   ]
  },
  {
   "cell_type": "code",
   "execution_count": 14,
   "metadata": {},
   "outputs": [
    {
     "data": {
      "text/plain": [
       "(500, 8000)"
      ]
     },
     "execution_count": 14,
     "metadata": {},
     "output_type": "execute_result"
    }
   ],
   "source": [
    "# no theta behavior  for revision  2020.8.21\n",
    "pl.figure()\n",
    "rastdata=np.loadtxt(\"Data_for_paper/rast_EC5EC30.012_CA1EC50.0008_EC3_CA10.001_Gpv0.012_cCA1EC50.005_EC51e-05_gCAN0.020.8GEI_EC50.2GIE_EC50.30_00.015.datdec4long1.130200.0150.0180.018080gamma30_noOLM\")\n",
    "tmprast=np.array([x for x in rastdata if x[1]>=1450 and x[1]<1600])\n",
    "pl.scatter(tmprast[::2,0],tmprast[::2,1],s=0.5,c=\"b\")\n",
    "pl.xlim(500,8000)"
   ]
  },
  {
   "cell_type": "code",
   "execution_count": 6,
   "metadata": {},
   "outputs": [],
   "source": []
  },
  {
   "cell_type": "code",
   "execution_count": null,
   "metadata": {},
   "outputs": [],
   "source": []
  }
 ],
 "metadata": {
  "kernelspec": {
   "display_name": "Python 3",
   "language": "python",
   "name": "python3"
  },
  "language_info": {
   "codemirror_mode": {
    "name": "ipython",
    "version": 3
   },
   "file_extension": ".py",
   "mimetype": "text/x-python",
   "name": "python",
   "nbconvert_exporter": "python",
   "pygments_lexer": "ipython3",
   "version": "3.7.4"
  }
 },
 "nbformat": 4,
 "nbformat_minor": 2
}
